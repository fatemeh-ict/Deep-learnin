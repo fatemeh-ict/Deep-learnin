{
  "nbformat": 4,
  "nbformat_minor": 0,
  "metadata": {
    "colab": {
      "provenance": [],
      "gpuType": "T4"
    },
    "kernelspec": {
      "name": "python3",
      "display_name": "Python 3"
    },
    "language_info": {
      "name": "python"
    },
    "accelerator": "GPU"
  },
  "cells": [
    {
      "cell_type": "code",
      "execution_count": null,
      "metadata": {
        "id": "dvRiNDuVYxLd"
      },
      "outputs": [],
      "source": [
        "import numpy as np\n",
        "import matplotlib.pyplot as plt\n",
        "import tensorflow as tf\n",
        "from tensorflow import keras"
      ]
    },
    {
      "cell_type": "code",
      "source": [
        "mnist=keras.datasets.mnist"
      ],
      "metadata": {
        "id": "wFSeLBUJY0Wc"
      },
      "execution_count": null,
      "outputs": []
    },
    {
      "cell_type": "code",
      "source": [
        "(train_features,train_labels),(test_features,test_labels)=mnist.load_data()"
      ],
      "metadata": {
        "colab": {
          "base_uri": "https://localhost:8080/"
        },
        "id": "gy9q30tNY_NM",
        "outputId": "67f2ff59-b1b0-4702-ff21-f0a11f159e60"
      },
      "execution_count": null,
      "outputs": [
        {
          "output_type": "stream",
          "name": "stdout",
          "text": [
            "Downloading data from https://storage.googleapis.com/tensorflow/tf-keras-datasets/mnist.npz\n",
            "11490434/11490434 [==============================] - 2s 0us/step\n"
          ]
        }
      ]
    },
    {
      "cell_type": "code",
      "source": [
        "train_features.shape,train_labels.shape"
      ],
      "metadata": {
        "colab": {
          "base_uri": "https://localhost:8080/"
        },
        "id": "guRLedutZQH0",
        "outputId": "8aba3c8f-0965-413c-e819-bea075287670"
      },
      "execution_count": null,
      "outputs": [
        {
          "output_type": "execute_result",
          "data": {
            "text/plain": [
              "((60000, 28, 28), (60000,))"
            ]
          },
          "metadata": {},
          "execution_count": 4
        }
      ]
    },
    {
      "cell_type": "code",
      "source": [
        "test_features.shape"
      ],
      "metadata": {
        "colab": {
          "base_uri": "https://localhost:8080/"
        },
        "id": "AFgLi7wWZivP",
        "outputId": "e86eeb73-3018-473c-bfca-b2da038302f8"
      },
      "execution_count": null,
      "outputs": [
        {
          "output_type": "execute_result",
          "data": {
            "text/plain": [
              "(10000, 28, 28)"
            ]
          },
          "metadata": {},
          "execution_count": 5
        }
      ]
    },
    {
      "cell_type": "code",
      "source": [
        "idx=0\n",
        "img=train_features[idx]\n",
        "print(train_labels[idx])\n",
        "plt.gray()\n",
        "plt.imshow(img)"
      ],
      "metadata": {
        "colab": {
          "base_uri": "https://localhost:8080/",
          "height": 466
        },
        "id": "pcOhE1nnZnLZ",
        "outputId": "aa6fae0f-2733-4753-8568-e292816f3424"
      },
      "execution_count": null,
      "outputs": [
        {
          "output_type": "stream",
          "name": "stdout",
          "text": [
            "5\n"
          ]
        },
        {
          "output_type": "execute_result",
          "data": {
            "text/plain": [
              "<matplotlib.image.AxesImage at 0x7fb32f7aae60>"
            ]
          },
          "metadata": {},
          "execution_count": 7
        },
        {
          "output_type": "display_data",
          "data": {
            "text/plain": [
              "<Figure size 640x480 with 1 Axes>"
            ],
            "image/png": "[encoded data removed]"
          },
          "metadata": {}
        }
      ]
    },
    {
      "cell_type": "markdown",
      "source": [
        "**preprocessing**"
      ],
      "metadata": {
        "id": "an-HtzOSazjj"
      }
    },
    {
      "cell_type": "code",
      "source": [
        "np.min(img),np.max(img)"
      ],
      "metadata": {
        "colab": {
          "base_uri": "https://localhost:8080/"
        },
        "id": "4wZec6OZa3jF",
        "outputId": "07157229-bdef-415f-ed9f-11babf67f15f"
      },
      "execution_count": null,
      "outputs": [
        {
          "output_type": "execute_result",
          "data": {
            "text/plain": [
              "(0, 255)"
            ]
          },
          "metadata": {},
          "execution_count": 8
        }
      ]
    },
    {
      "cell_type": "code",
      "source": [
        "train_features=train_features/255.0\n",
        "test_features=test_features/255.0"
      ],
      "metadata": {
        "id": "7lIzUU7bbl6B"
      },
      "execution_count": null,
      "outputs": []
    },
    {
      "cell_type": "markdown",
      "source": [
        "**model** **definition**"
      ],
      "metadata": {
        "id": "4d9nPERib1aA"
      }
    },
    {
      "cell_type": "code",
      "source": [
        "model=keras.Sequential()\n",
        "model.add(keras.layers.Flatten())\n",
        "model.add(keras.layers.Dense(units=128,activation='relu'))\n",
        "model.add(keras.layers.Dense(units=128,activation='relu'))\n",
        "model.add(keras.layers.Dense(units=10,activation='softmax'))"
      ],
      "metadata": {
        "id": "eK0PFwxxbypn"
      },
      "execution_count": null,
      "outputs": []
    },
    {
      "cell_type": "code",
      "source": [
        "model.compile(optimizer=tf.optimizers.Adam(),loss=tf.losses.sparse_categorical_crossentropy,metrics=['accuracy'])"
      ],
      "metadata": {
        "id": "cWPPsJBffJoZ"
      },
      "execution_count": null,
      "outputs": []
    },
    {
      "cell_type": "code",
      "source": [
        "early_stop=keras.callbacks.EarlyStopping(monitor='val_loss',patience=50,restore_best_weights=True)"
      ],
      "metadata": {
        "id": "fz6jix4KmJEk"
      },
      "execution_count": null,
      "outputs": []
    },
    {
      "cell_type": "code",
      "source": [
        "model.build(input_shape=(None,28,28))\n",
        "model.summary()"
      ],
      "metadata": {
        "colab": {
          "base_uri": "https://localhost:8080/"
        },
        "id": "NND7F89Tl_oS",
        "outputId": "d475338c-c217-4e5a-fd75-ed2b4c6a81ea"
      },
      "execution_count": null,
      "outputs": [
        {
          "output_type": "stream",
          "name": "stdout",
          "text": [
            "Model: \"sequential_2\"\n",
            "_________________________________________________________________\n",
            " Layer (type)                Output Shape              Param #   \n",
            "=================================================================\n",
            " flatten_2 (Flatten)         (None, 784)               0         \n",
            "                                                                 \n",
            " dense_6 (Dense)             (None, 128)               100480    \n",
            "                                                                 \n",
            " dense_7 (Dense)             (None, 128)               16512     \n",
            "                                                                 \n",
            " dense_8 (Dense)             (None, 10)                1290      \n",
            "                                                                 \n",
            "=================================================================\n",
            "Total params: 118282 (462.04 KB)\n",
            "Trainable params: 118282 (462.04 KB)\n",
            "Non-trainable params: 0 (0.00 Byte)\n",
            "_________________________________________________________________\n"
          ]
        }
      ]
    },
    {
      "cell_type": "code",
      "source": [
        "hist=model.fit(train_features,train_labels,epochs=1000,batch_size=256,callbacks=[early_stop],validation_data=(test_features,test_labels))"
      ],
      "metadata": {
        "colab": {
          "base_uri": "https://localhost:8080/"
        },
        "id": "-i4DKs9AggTh",
        "outputId": "70d63178-aeb8-4e15-e303-cee91e11f0df"
      },
      "execution_count": null,
      "outputs": [
        {
          "output_type": "stream",
          "name": "stdout",
          "text": [
            "Epoch 1/1000\n",
            "235/235 [==============================] - 1s 4ms/step - loss: 4.3511e-10 - accuracy: 1.0000 - val_loss: 0.2706 - val_accuracy: 0.9820\n",
            "Epoch 2/1000\n",
            "235/235 [==============================] - 1s 4ms/step - loss: 4.4306e-10 - accuracy: 1.0000 - val_loss: 0.2711 - val_accuracy: 0.9819\n",
            "Epoch 3/1000\n",
            "235/235 [==============================] - 1s 4ms/step - loss: 4.4306e-10 - accuracy: 1.0000 - val_loss: 0.2714 - val_accuracy: 0.9820\n",
            "Epoch 4/1000\n",
            "235/235 [==============================] - 1s 4ms/step - loss: 4.5101e-10 - accuracy: 1.0000 - val_loss: 0.2717 - val_accuracy: 0.9821\n",
            "Epoch 5/1000\n",
            "235/235 [==============================] - 1s 4ms/step - loss: 4.6094e-10 - accuracy: 1.0000 - val_loss: 0.2719 - val_accuracy: 0.9820\n",
            "Epoch 6/1000\n",
            "235/235 [==============================] - 1s 4ms/step - loss: 4.3511e-10 - accuracy: 1.0000 - val_loss: 0.2724 - val_accuracy: 0.9821\n",
            "Epoch 7/1000\n",
            "235/235 [==============================] - 1s 4ms/step - loss: 4.6094e-10 - accuracy: 1.0000 - val_loss: 0.2725 - val_accuracy: 0.9819\n",
            "Epoch 8/1000\n",
            "235/235 [==============================] - 1s 4ms/step - loss: 4.4703e-10 - accuracy: 1.0000 - val_loss: 0.2728 - val_accuracy: 0.9822\n",
            "Epoch 9/1000\n",
            "235/235 [==============================] - 1s 4ms/step - loss: 4.9273e-10 - accuracy: 1.0000 - val_loss: 0.2731 - val_accuracy: 0.9821\n",
            "Epoch 10/1000\n",
            "235/235 [==============================] - 1s 5ms/step - loss: 4.4306e-10 - accuracy: 1.0000 - val_loss: 0.2735 - val_accuracy: 0.9820\n",
            "Epoch 11/1000\n",
            "235/235 [==============================] - 1s 6ms/step - loss: 4.6492e-10 - accuracy: 1.0000 - val_loss: 0.2738 - val_accuracy: 0.9820\n",
            "Epoch 12/1000\n",
            "235/235 [==============================] - 1s 4ms/step - loss: 4.4703e-10 - accuracy: 1.0000 - val_loss: 0.2742 - val_accuracy: 0.9821\n",
            "Epoch 13/1000\n",
            "235/235 [==============================] - 1s 4ms/step - loss: 4.2518e-10 - accuracy: 1.0000 - val_loss: 0.2748 - val_accuracy: 0.9819\n",
            "Epoch 14/1000\n",
            "235/235 [==============================] - 1s 4ms/step - loss: 4.5697e-10 - accuracy: 1.0000 - val_loss: 0.2752 - val_accuracy: 0.9818\n",
            "Epoch 15/1000\n",
            "235/235 [==============================] - 1s 4ms/step - loss: 4.8081e-10 - accuracy: 1.0000 - val_loss: 0.2750 - val_accuracy: 0.9821\n",
            "Epoch 16/1000\n",
            "235/235 [==============================] - 1s 4ms/step - loss: 4.6492e-10 - accuracy: 1.0000 - val_loss: 0.2759 - val_accuracy: 0.9820\n",
            "Epoch 17/1000\n",
            "235/235 [==============================] - 1s 4ms/step - loss: 4.5697e-10 - accuracy: 1.0000 - val_loss: 0.2758 - val_accuracy: 0.9820\n",
            "Epoch 18/1000\n",
            "235/235 [==============================] - 1s 4ms/step - loss: 4.5697e-10 - accuracy: 1.0000 - val_loss: 0.2762 - val_accuracy: 0.9820\n",
            "Epoch 19/1000\n",
            "235/235 [==============================] - 1s 4ms/step - loss: 4.6690e-10 - accuracy: 1.0000 - val_loss: 0.2768 - val_accuracy: 0.9823\n",
            "Epoch 20/1000\n",
            "235/235 [==============================] - 1s 4ms/step - loss: 4.8876e-10 - accuracy: 1.0000 - val_loss: 0.2772 - val_accuracy: 0.9823\n",
            "Epoch 21/1000\n",
            "235/235 [==============================] - 1s 4ms/step - loss: 4.6094e-10 - accuracy: 1.0000 - val_loss: 0.2774 - val_accuracy: 0.9822\n",
            "Epoch 22/1000\n",
            "235/235 [==============================] - 1s 4ms/step - loss: 4.7286e-10 - accuracy: 1.0000 - val_loss: 0.2778 - val_accuracy: 0.9821\n",
            "Epoch 23/1000\n",
            "235/235 [==============================] - 1s 5ms/step - loss: 4.9671e-10 - accuracy: 1.0000 - val_loss: 0.2781 - val_accuracy: 0.9822\n",
            "Epoch 24/1000\n",
            "235/235 [==============================] - 1s 5ms/step - loss: 4.4902e-10 - accuracy: 1.0000 - val_loss: 0.2784 - val_accuracy: 0.9823\n",
            "Epoch 25/1000\n",
            "235/235 [==============================] - 1s 4ms/step - loss: 5.0465e-10 - accuracy: 1.0000 - val_loss: 0.2790 - val_accuracy: 0.9820\n",
            "Epoch 26/1000\n",
            "235/235 [==============================] - 1s 4ms/step - loss: 4.5697e-10 - accuracy: 1.0000 - val_loss: 0.2791 - val_accuracy: 0.9823\n",
            "Epoch 27/1000\n",
            "235/235 [==============================] - 1s 4ms/step - loss: 4.8280e-10 - accuracy: 1.0000 - val_loss: 0.2795 - val_accuracy: 0.9823\n",
            "Epoch 28/1000\n",
            "235/235 [==============================] - 1s 4ms/step - loss: 4.9869e-10 - accuracy: 1.0000 - val_loss: 0.2799 - val_accuracy: 0.9822\n",
            "Epoch 29/1000\n",
            "235/235 [==============================] - 1s 4ms/step - loss: 4.8876e-10 - accuracy: 1.0000 - val_loss: 0.2801 - val_accuracy: 0.9823\n",
            "Epoch 30/1000\n",
            "235/235 [==============================] - 1s 4ms/step - loss: 4.8876e-10 - accuracy: 1.0000 - val_loss: 0.2804 - val_accuracy: 0.9823\n",
            "Epoch 31/1000\n",
            "235/235 [==============================] - 1s 4ms/step - loss: 5.0068e-10 - accuracy: 1.0000 - val_loss: 0.2806 - val_accuracy: 0.9822\n",
            "Epoch 32/1000\n",
            "235/235 [==============================] - 1s 4ms/step - loss: 4.8677e-10 - accuracy: 1.0000 - val_loss: 0.2811 - val_accuracy: 0.9823\n",
            "Epoch 33/1000\n",
            "235/235 [==============================] - 1s 4ms/step - loss: 4.7684e-10 - accuracy: 1.0000 - val_loss: 0.2819 - val_accuracy: 0.9825\n",
            "Epoch 34/1000\n",
            "235/235 [==============================] - 1s 4ms/step - loss: 5.0267e-10 - accuracy: 1.0000 - val_loss: 0.2820 - val_accuracy: 0.9823\n",
            "Epoch 35/1000\n",
            "235/235 [==============================] - 1s 4ms/step - loss: 4.8478e-10 - accuracy: 1.0000 - val_loss: 0.2824 - val_accuracy: 0.9823\n",
            "Epoch 36/1000\n",
            "235/235 [==============================] - 1s 6ms/step - loss: 4.9074e-10 - accuracy: 1.0000 - val_loss: 0.2824 - val_accuracy: 0.9823\n",
            "Epoch 37/1000\n",
            "235/235 [==============================] - 1s 5ms/step - loss: 5.3247e-10 - accuracy: 1.0000 - val_loss: 0.2830 - val_accuracy: 0.9821\n",
            "Epoch 38/1000\n",
            "235/235 [==============================] - 1s 4ms/step - loss: 5.1459e-10 - accuracy: 1.0000 - val_loss: 0.2837 - val_accuracy: 0.9824\n",
            "Epoch 39/1000\n",
            "235/235 [==============================] - 1s 4ms/step - loss: 4.9671e-10 - accuracy: 1.0000 - val_loss: 0.2837 - val_accuracy: 0.9822\n",
            "Epoch 40/1000\n",
            "235/235 [==============================] - 1s 4ms/step - loss: 4.6492e-10 - accuracy: 1.0000 - val_loss: 0.2839 - val_accuracy: 0.9822\n",
            "Epoch 41/1000\n",
            "235/235 [==============================] - 1s 4ms/step - loss: 5.0664e-10 - accuracy: 1.0000 - val_loss: 0.2849 - val_accuracy: 0.9823\n",
            "Epoch 42/1000\n",
            "235/235 [==============================] - 1s 4ms/step - loss: 5.0267e-10 - accuracy: 1.0000 - val_loss: 0.2855 - val_accuracy: 0.9821\n",
            "Epoch 43/1000\n",
            "235/235 [==============================] - 1s 4ms/step - loss: 5.0465e-10 - accuracy: 1.0000 - val_loss: 0.2857 - val_accuracy: 0.9822\n",
            "Epoch 44/1000\n",
            "235/235 [==============================] - 1s 4ms/step - loss: 5.0465e-10 - accuracy: 1.0000 - val_loss: 0.2857 - val_accuracy: 0.9822\n",
            "Epoch 45/1000\n",
            "235/235 [==============================] - 1s 4ms/step - loss: 5.0068e-10 - accuracy: 1.0000 - val_loss: 0.2863 - val_accuracy: 0.9821\n",
            "Epoch 46/1000\n",
            "235/235 [==============================] - 1s 4ms/step - loss: 5.1459e-10 - accuracy: 1.0000 - val_loss: 0.2870 - val_accuracy: 0.9823\n",
            "Epoch 47/1000\n",
            "235/235 [==============================] - 1s 4ms/step - loss: 5.1061e-10 - accuracy: 1.0000 - val_loss: 0.2873 - val_accuracy: 0.9823\n",
            "Epoch 48/1000\n",
            "235/235 [==============================] - 1s 5ms/step - loss: 5.2452e-10 - accuracy: 1.0000 - val_loss: 0.2880 - val_accuracy: 0.9822\n",
            "Epoch 49/1000\n",
            "235/235 [==============================] - 1s 5ms/step - loss: 5.1657e-10 - accuracy: 1.0000 - val_loss: 0.2883 - val_accuracy: 0.9822\n",
            "Epoch 50/1000\n",
            "235/235 [==============================] - 1s 4ms/step - loss: 5.1061e-10 - accuracy: 1.0000 - val_loss: 0.2889 - val_accuracy: 0.9822\n",
            "Epoch 51/1000\n",
            "235/235 [==============================] - 1s 4ms/step - loss: 5.4240e-10 - accuracy: 1.0000 - val_loss: 0.2893 - val_accuracy: 0.9823\n"
          ]
        }
      ]
    },
    {
      "cell_type": "code",
      "source": [
        "idx=100\n",
        "img=test_features[idx]\n",
        "print(test_labels[idx])\n",
        "plt.gray()\n",
        "plt.imshow(img)"
      ],
      "metadata": {
        "colab": {
          "base_uri": "https://localhost:8080/",
          "height": 466
        },
        "id": "eqsB5YdOi6yk",
        "outputId": "8b024e0f-8c59-4966-b527-3860a43f29fb"
      },
      "execution_count": null,
      "outputs": [
        {
          "output_type": "stream",
          "name": "stdout",
          "text": [
            "6\n"
          ]
        },
        {
          "output_type": "execute_result",
          "data": {
            "text/plain": [
              "<matplotlib.image.AxesImage at 0x7fb29c4e46a0>"
            ]
          },
          "metadata": {},
          "execution_count": 26
        },
        {
          "output_type": "display_data",
          "data": {
            "text/plain": [
              "<Figure size 640x480 with 1 Axes>"
            ],
            "image/png": "[encoded data removed]"
          },
          "metadata": {}
        }
      ]
    },
    {
      "cell_type": "code",
      "source": [
        "model.predict(np.reshape(img,(-1,784)))"
      ],
      "metadata": {
        "colab": {
          "base_uri": "https://localhost:8080/"
        },
        "id": "HBKc5C3of79j",
        "outputId": "3b6ef8c1-e3b4-4207-e0f2-8481c4ad8703"
      },
      "execution_count": null,
      "outputs": [
        {
          "output_type": "stream",
          "name": "stdout",
          "text": [
            "1/1 [==============================] - 0s 102ms/step\n"
          ]
        },
        {
          "output_type": "execute_result",
          "data": {
            "text/plain": [
              "array([[1.1408701e-28, 2.4300671e-33, 1.5672221e-26, 0.0000000e+00,\n",
              "        1.1805288e-37, 7.2041057e-38, 1.0000000e+00, 0.0000000e+00,\n",
              "        1.9610464e-28, 0.0000000e+00]], dtype=float32)"
            ]
          },
          "metadata": {},
          "execution_count": 28
        }
      ]
    },
    {
      "cell_type": "code",
      "source": [
        "acc=hist.history['accuracy']\n",
        "val_acc=hist.history['val_accuracy']\n",
        "plt.plot(acc,color='red')\n",
        "plt.plot(val_acc,color='blue')\n",
        "plt.show()"
      ],
      "metadata": {
        "colab": {
          "base_uri": "https://localhost:8080/",
          "height": 430
        },
        "id": "HJz4jWjDnrtM",
        "outputId": "8d93cb9e-1c71-48f6-97d9-dbab87e424dc"
      },
      "execution_count": null,
      "outputs": [
        {
          "output_type": "display_data",
          "data": {
            "text/plain": [
              "<Figure size 640x480 with 1 Axes>"
            ],
            "image/png": "[encoded data removed]"
          },
          "metadata": {}
        }
      ]
    },
    {
      "cell_type": "code",
      "source": [
        "loss=hist.history['loss']\n",
        "val_loss=hist.history['val_loss']\n",
        "plt.plot(loss,color='red')\n",
        "plt.plot(val_loss,color='blue')\n",
        "plt.show()"
      ],
      "metadata": {
        "colab": {
          "base_uri": "https://localhost:8080/",
          "height": 431
        },
        "id": "30MaTVSToWiO",
        "outputId": "bb1e6a67-412a-408d-cd1b-bfadc9f64231"
      },
      "execution_count": null,
      "outputs": [
        {
          "output_type": "display_data",
          "data": {
            "text/plain": [
              "<Figure size 640x480 with 1 Axes>"
            ],
            "image/png": "[encoded data removed]"
          },
          "metadata": {}
        }
      ]
    },
    {
      "cell_type": "code",
      "source": [],
      "metadata": {
        "id": "hnHpMec5pEw5"
      },
      "execution_count": null,
      "outputs": []
    }
  ]
}