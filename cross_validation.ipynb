{
  "nbformat": 4,
  "nbformat_minor": 0,
  "metadata": {
    "colab": {
      "provenance": [],
      "gpuType": "T4",
      "authorship_tag": "ABX9TyPNrmpEoGI2BuRBGMYQy9qD",
      "include_colab_link": true
    },
    "kernelspec": {
      "name": "python3",
      "display_name": "Python 3"
    },
    "language_info": {
      "name": "python"
    },
    "accelerator": "GPU"
  },
  "cells": [
    {
      "cell_type": "markdown",
      "metadata": {
        "id": "view-in-github",
        "colab_type": "text"
      },
      "source": [
        "<a href=\"https://colab.research.google.com/github/fatemeh-ict/Deep-learnin/blob/main/cross_validation.ipynb\" target=\"_parent\"><img src=\"https://colab.research.google.com/assets/colab-badge.svg\" alt=\"Open In Colab\"/></a>"
      ]
    },
    {
      "cell_type": "markdown",
      "source": [
        "**dataset creation**"
      ],
      "metadata": {
        "id": "5TA81GaODCkB"
      }
    },
    {
      "cell_type": "code",
      "execution_count": null,
      "metadata": {
        "id": "r5_dJgc1A8F5"
      },
      "outputs": [],
      "source": [
        "from sklearn.datasets import make_classification"
      ]
    },
    {
      "cell_type": "code",
      "source": [
        "x,y=make_classification(n_samples=1000,n_features=10,n_informative=8,n_redundant=2,random_state=0)"
      ],
      "metadata": {
        "id": "shAcjrI-CFi0"
      },
      "execution_count": null,
      "outputs": []
    },
    {
      "cell_type": "code",
      "source": [
        "x.shape"
      ],
      "metadata": {
        "colab": {
          "base_uri": "https://localhost:8080/"
        },
        "id": "zFAf6DLlCs9v",
        "outputId": "bce8bff4-ef02-49db-9bfb-b6567ec08d45"
      },
      "execution_count": null,
      "outputs": [
        {
          "output_type": "execute_result",
          "data": {
            "text/plain": [
              "(1000, 10)"
            ]
          },
          "metadata": {},
          "execution_count": 3
        }
      ]
    },
    {
      "cell_type": "code",
      "source": [
        "y.shape"
      ],
      "metadata": {
        "colab": {
          "base_uri": "https://localhost:8080/"
        },
        "id": "YDT7k1P-Cuqi",
        "outputId": "f74c522d-9ad5-4b5e-c48e-e5b71b05f933"
      },
      "execution_count": null,
      "outputs": [
        {
          "output_type": "execute_result",
          "data": {
            "text/plain": [
              "(1000,)"
            ]
          },
          "metadata": {},
          "execution_count": 4
        }
      ]
    },
    {
      "cell_type": "code",
      "source": [
        "x[60]"
      ],
      "metadata": {
        "colab": {
          "base_uri": "https://localhost:8080/"
        },
        "id": "HMDNn3KxCwqO",
        "outputId": "d1098218-df93-424d-e2ec-d315093967cb"
      },
      "execution_count": null,
      "outputs": [
        {
          "output_type": "execute_result",
          "data": {
            "text/plain": [
              "array([ 0.55004084,  1.40940304, -2.74862205, -4.80233427,  5.0953792 ,\n",
              "        2.02387354,  1.03232545, -0.91652994, -3.360814  , -1.73222718])"
            ]
          },
          "metadata": {},
          "execution_count": 5
        }
      ]
    },
    {
      "cell_type": "code",
      "source": [
        "y[60]"
      ],
      "metadata": {
        "colab": {
          "base_uri": "https://localhost:8080/"
        },
        "id": "NA2hWFAjCy0L",
        "outputId": "bc58708f-3b26-4158-a0e0-95467a8843be"
      },
      "execution_count": null,
      "outputs": [
        {
          "output_type": "execute_result",
          "data": {
            "text/plain": [
              "0"
            ]
          },
          "metadata": {},
          "execution_count": 6
        }
      ]
    },
    {
      "cell_type": "markdown",
      "source": [
        "**model definition**"
      ],
      "metadata": {
        "id": "UO3OXLF1DLcf"
      }
    },
    {
      "cell_type": "code",
      "source": [
        "import tensorflow as tf\n",
        "from tensorflow import keras"
      ],
      "metadata": {
        "id": "GGCXvonZC1IF"
      },
      "execution_count": null,
      "outputs": []
    },
    {
      "cell_type": "code",
      "source": [
        "def create_model():\n",
        "  model=keras.Sequential()\n",
        "  model.add(keras.layers.Dense(units=16,activation='relu'))\n",
        "  model.add(keras.layers.Dense(units=1,activation='sigmoid'))\n",
        "  model.compile(optimizer=tf.optimizers.Adam(),loss=tf.losses.binary_crossentropy,metrics=['accuracy'])\n",
        "  return model"
      ],
      "metadata": {
        "id": "Dl1UbhJxEXXZ"
      },
      "execution_count": null,
      "outputs": []
    },
    {
      "cell_type": "markdown",
      "source": [
        "**cross validation**"
      ],
      "metadata": {
        "id": "vI4AITFwFa2n"
      }
    },
    {
      "cell_type": "code",
      "source": [
        "n_split=5\n",
        "from sklearn.model_selection import StratifiedKFold\n",
        "from sklearn.metrics import accuracy_score\n",
        "\n",
        "kf=StratifiedKFold(n_splits=n_split,shuffle=True)"
      ],
      "metadata": {
        "id": "HKw_nEkiFY75"
      },
      "execution_count": null,
      "outputs": []
    },
    {
      "cell_type": "code",
      "source": [
        "acc_total=[]\n",
        "for train_index,validation_index in kf.split(x,y):\n",
        "  x_train=x[train_index]\n",
        "  y_train=y[train_index]\n",
        "\n",
        "  x_validation=x[validation_index]\n",
        "  y_validation=y[validation_index]\n",
        "  #model\n",
        "  model=create_model()\n",
        "  model.fit(x_train,y_train,epochs=20,batch_size=64,validation_data=(x_validation,y_validation),verbose=2)\n",
        "\n",
        "  #prediction\n",
        "  y_pred=model.predict(x_validation)\n",
        "  y_pred=(y_pred>.5).astype('int32')\n",
        "  #accuracy\n",
        "  acc=accuracy_score(y_true=y_validation,y_pred=y_pred)\n",
        "  acc_total.append(acc)"
      ],
      "metadata": {
        "colab": {
          "base_uri": "https://localhost:8080/"
        },
        "id": "eFQBOlrwIwD1",
        "outputId": "05f58cbe-039f-4a97-fc17-23da33ae0348"
      },
      "execution_count": null,
      "outputs": [
        {
          "output_type": "stream",
          "name": "stdout",
          "text": [
            "Epoch 1/20\n",
            "13/13 - 1s - loss: 0.7086 - accuracy: 0.5813 - val_loss: 0.6251 - val_accuracy: 0.5900 - 888ms/epoch - 68ms/step\n",
            "Epoch 2/20\n",
            "13/13 - 0s - loss: 0.6271 - accuracy: 0.6500 - val_loss: 0.5546 - val_accuracy: 0.6350 - 74ms/epoch - 6ms/step\n",
            "Epoch 3/20\n",
            "13/13 - 0s - loss: 0.5601 - accuracy: 0.6975 - val_loss: 0.4996 - val_accuracy: 0.7100 - 58ms/epoch - 4ms/step\n",
            "Epoch 4/20\n",
            "13/13 - 0s - loss: 0.5095 - accuracy: 0.7437 - val_loss: 0.4531 - val_accuracy: 0.7700 - 76ms/epoch - 6ms/step\n",
            "Epoch 5/20\n",
            "13/13 - 0s - loss: 0.4690 - accuracy: 0.7725 - val_loss: 0.4154 - val_accuracy: 0.8300 - 58ms/epoch - 4ms/step\n",
            "Epoch 6/20\n",
            "13/13 - 0s - loss: 0.4362 - accuracy: 0.7950 - val_loss: 0.3841 - val_accuracy: 0.8700 - 62ms/epoch - 5ms/step\n",
            "Epoch 7/20\n",
            "13/13 - 0s - loss: 0.4089 - accuracy: 0.8350 - val_loss: 0.3591 - val_accuracy: 0.8900 - 71ms/epoch - 5ms/step\n",
            "Epoch 8/20\n",
            "13/13 - 0s - loss: 0.3867 - accuracy: 0.8487 - val_loss: 0.3372 - val_accuracy: 0.9000 - 66ms/epoch - 5ms/step\n",
            "Epoch 9/20\n",
            "13/13 - 0s - loss: 0.3672 - accuracy: 0.8575 - val_loss: 0.3203 - val_accuracy: 0.8950 - 71ms/epoch - 5ms/step\n",
            "Epoch 10/20\n",
            "13/13 - 0s - loss: 0.3505 - accuracy: 0.8712 - val_loss: 0.3051 - val_accuracy: 0.9100 - 70ms/epoch - 5ms/step\n",
            "Epoch 11/20\n",
            "13/13 - 0s - loss: 0.3361 - accuracy: 0.8825 - val_loss: 0.2911 - val_accuracy: 0.9150 - 70ms/epoch - 5ms/step\n",
            "Epoch 12/20\n",
            "13/13 - 0s - loss: 0.3233 - accuracy: 0.8925 - val_loss: 0.2790 - val_accuracy: 0.9250 - 73ms/epoch - 6ms/step\n",
            "Epoch 13/20\n",
            "13/13 - 0s - loss: 0.3118 - accuracy: 0.8950 - val_loss: 0.2682 - val_accuracy: 0.9250 - 75ms/epoch - 6ms/step\n",
            "Epoch 14/20\n",
            "13/13 - 0s - loss: 0.3020 - accuracy: 0.8963 - val_loss: 0.2587 - val_accuracy: 0.9350 - 62ms/epoch - 5ms/step\n",
            "Epoch 15/20\n",
            "13/13 - 0s - loss: 0.2926 - accuracy: 0.9025 - val_loss: 0.2515 - val_accuracy: 0.9350 - 77ms/epoch - 6ms/step\n",
            "Epoch 16/20\n",
            "13/13 - 0s - loss: 0.2845 - accuracy: 0.9100 - val_loss: 0.2437 - val_accuracy: 0.9450 - 58ms/epoch - 4ms/step\n",
            "Epoch 17/20\n",
            "13/13 - 0s - loss: 0.2768 - accuracy: 0.9150 - val_loss: 0.2376 - val_accuracy: 0.9400 - 74ms/epoch - 6ms/step\n",
            "Epoch 18/20\n",
            "13/13 - 0s - loss: 0.2699 - accuracy: 0.9162 - val_loss: 0.2314 - val_accuracy: 0.9450 - 60ms/epoch - 5ms/step\n",
            "Epoch 19/20\n",
            "13/13 - 0s - loss: 0.2636 - accuracy: 0.9237 - val_loss: 0.2261 - val_accuracy: 0.9450 - 70ms/epoch - 5ms/step\n",
            "Epoch 20/20\n",
            "13/13 - 0s - loss: 0.2577 - accuracy: 0.9250 - val_loss: 0.2211 - val_accuracy: 0.9450 - 56ms/epoch - 4ms/step\n",
            "7/7 [==============================] - 0s 3ms/step\n",
            "Epoch 1/20\n",
            "13/13 - 1s - loss: 0.6336 - accuracy: 0.5962 - val_loss: 0.6045 - val_accuracy: 0.6700 - 876ms/epoch - 67ms/step\n",
            "Epoch 2/20\n",
            "13/13 - 0s - loss: 0.5429 - accuracy: 0.7013 - val_loss: 0.5321 - val_accuracy: 0.7350 - 69ms/epoch - 5ms/step\n",
            "Epoch 3/20\n",
            "13/13 - 0s - loss: 0.4750 - accuracy: 0.7462 - val_loss: 0.4797 - val_accuracy: 0.7700 - 61ms/epoch - 5ms/step\n",
            "Epoch 4/20\n",
            "13/13 - 0s - loss: 0.4276 - accuracy: 0.7900 - val_loss: 0.4387 - val_accuracy: 0.8050 - 71ms/epoch - 5ms/step\n",
            "Epoch 5/20\n",
            "13/13 - 0s - loss: 0.3906 - accuracy: 0.8250 - val_loss: 0.4061 - val_accuracy: 0.8150 - 60ms/epoch - 5ms/step\n",
            "Epoch 6/20\n",
            "13/13 - 0s - loss: 0.3612 - accuracy: 0.8425 - val_loss: 0.3802 - val_accuracy: 0.8450 - 58ms/epoch - 4ms/step\n",
            "Epoch 7/20\n",
            "13/13 - 0s - loss: 0.3370 - accuracy: 0.8587 - val_loss: 0.3589 - val_accuracy: 0.8550 - 72ms/epoch - 6ms/step\n",
            "Epoch 8/20\n",
            "13/13 - 0s - loss: 0.3182 - accuracy: 0.8700 - val_loss: 0.3406 - val_accuracy: 0.8650 - 70ms/epoch - 5ms/step\n",
            "Epoch 9/20\n",
            "13/13 - 0s - loss: 0.3011 - accuracy: 0.8838 - val_loss: 0.3253 - val_accuracy: 0.8800 - 70ms/epoch - 5ms/step\n",
            "Epoch 10/20\n",
            "13/13 - 0s - loss: 0.2869 - accuracy: 0.8913 - val_loss: 0.3115 - val_accuracy: 0.8900 - 71ms/epoch - 5ms/step\n",
            "Epoch 11/20\n",
            "13/13 - 0s - loss: 0.2743 - accuracy: 0.8975 - val_loss: 0.2990 - val_accuracy: 0.8950 - 61ms/epoch - 5ms/step\n",
            "Epoch 12/20\n",
            "13/13 - 0s - loss: 0.2629 - accuracy: 0.9013 - val_loss: 0.2884 - val_accuracy: 0.9050 - 59ms/epoch - 5ms/step\n",
            "Epoch 13/20\n",
            "13/13 - 0s - loss: 0.2527 - accuracy: 0.9050 - val_loss: 0.2791 - val_accuracy: 0.9200 - 72ms/epoch - 6ms/step\n",
            "Epoch 14/20\n",
            "13/13 - 0s - loss: 0.2440 - accuracy: 0.9137 - val_loss: 0.2700 - val_accuracy: 0.9200 - 71ms/epoch - 5ms/step\n",
            "Epoch 15/20\n",
            "13/13 - 0s - loss: 0.2357 - accuracy: 0.9225 - val_loss: 0.2626 - val_accuracy: 0.9250 - 73ms/epoch - 6ms/step\n",
            "Epoch 16/20\n",
            "13/13 - 0s - loss: 0.2284 - accuracy: 0.9262 - val_loss: 0.2557 - val_accuracy: 0.9250 - 78ms/epoch - 6ms/step\n",
            "Epoch 17/20\n",
            "13/13 - 0s - loss: 0.2217 - accuracy: 0.9312 - val_loss: 0.2495 - val_accuracy: 0.9200 - 64ms/epoch - 5ms/step\n",
            "Epoch 18/20\n",
            "13/13 - 0s - loss: 0.2157 - accuracy: 0.9325 - val_loss: 0.2437 - val_accuracy: 0.9250 - 79ms/epoch - 6ms/step\n",
            "Epoch 19/20\n",
            "13/13 - 0s - loss: 0.2101 - accuracy: 0.9337 - val_loss: 0.2391 - val_accuracy: 0.9250 - 82ms/epoch - 6ms/step\n",
            "Epoch 20/20\n",
            "13/13 - 0s - loss: 0.2051 - accuracy: 0.9375 - val_loss: 0.2349 - val_accuracy: 0.9300 - 81ms/epoch - 6ms/step\n",
            "7/7 [==============================] - 0s 3ms/step\n",
            "Epoch 1/20\n",
            "13/13 - 1s - loss: 1.0224 - accuracy: 0.3562 - val_loss: 0.9542 - val_accuracy: 0.4300 - 1s/epoch - 96ms/step\n",
            "Epoch 2/20\n",
            "13/13 - 0s - loss: 0.8835 - accuracy: 0.4313 - val_loss: 0.8224 - val_accuracy: 0.4900 - 85ms/epoch - 7ms/step\n",
            "Epoch 3/20\n",
            "13/13 - 0s - loss: 0.7659 - accuracy: 0.4950 - val_loss: 0.7149 - val_accuracy: 0.5600 - 93ms/epoch - 7ms/step\n",
            "Epoch 4/20\n",
            "13/13 - 0s - loss: 0.6722 - accuracy: 0.5725 - val_loss: 0.6284 - val_accuracy: 0.6350 - 112ms/epoch - 9ms/step\n",
            "Epoch 5/20\n",
            "13/13 - 0s - loss: 0.5955 - accuracy: 0.6637 - val_loss: 0.5595 - val_accuracy: 0.6900 - 103ms/epoch - 8ms/step\n",
            "Epoch 6/20\n",
            "13/13 - 0s - loss: 0.5350 - accuracy: 0.7275 - val_loss: 0.5045 - val_accuracy: 0.7500 - 86ms/epoch - 7ms/step\n",
            "Epoch 7/20\n",
            "13/13 - 0s - loss: 0.4856 - accuracy: 0.7775 - val_loss: 0.4602 - val_accuracy: 0.8100 - 106ms/epoch - 8ms/step\n",
            "Epoch 8/20\n",
            "13/13 - 0s - loss: 0.4463 - accuracy: 0.8313 - val_loss: 0.4232 - val_accuracy: 0.8400 - 104ms/epoch - 8ms/step\n",
            "Epoch 9/20\n",
            "13/13 - 0s - loss: 0.4129 - accuracy: 0.8637 - val_loss: 0.3931 - val_accuracy: 0.8650 - 73ms/epoch - 6ms/step\n",
            "Epoch 10/20\n",
            "13/13 - 0s - loss: 0.3864 - accuracy: 0.8825 - val_loss: 0.3675 - val_accuracy: 0.8850 - 57ms/epoch - 4ms/step\n",
            "Epoch 11/20\n",
            "13/13 - 0s - loss: 0.3638 - accuracy: 0.8975 - val_loss: 0.3455 - val_accuracy: 0.9050 - 58ms/epoch - 4ms/step\n",
            "Epoch 12/20\n",
            "13/13 - 0s - loss: 0.3441 - accuracy: 0.9087 - val_loss: 0.3269 - val_accuracy: 0.9100 - 71ms/epoch - 5ms/step\n",
            "Epoch 13/20\n",
            "13/13 - 0s - loss: 0.3271 - accuracy: 0.9137 - val_loss: 0.3101 - val_accuracy: 0.9200 - 64ms/epoch - 5ms/step\n",
            "Epoch 14/20\n",
            "13/13 - 0s - loss: 0.3122 - accuracy: 0.9137 - val_loss: 0.2953 - val_accuracy: 0.9300 - 59ms/epoch - 5ms/step\n",
            "Epoch 15/20\n",
            "13/13 - 0s - loss: 0.2987 - accuracy: 0.9150 - val_loss: 0.2821 - val_accuracy: 0.9300 - 56ms/epoch - 4ms/step\n",
            "Epoch 16/20\n",
            "13/13 - 0s - loss: 0.2871 - accuracy: 0.9175 - val_loss: 0.2698 - val_accuracy: 0.9300 - 74ms/epoch - 6ms/step\n",
            "Epoch 17/20\n",
            "13/13 - 0s - loss: 0.2766 - accuracy: 0.9187 - val_loss: 0.2591 - val_accuracy: 0.9300 - 87ms/epoch - 7ms/step\n",
            "Epoch 18/20\n",
            "13/13 - 0s - loss: 0.2671 - accuracy: 0.9225 - val_loss: 0.2491 - val_accuracy: 0.9350 - 78ms/epoch - 6ms/step\n",
            "Epoch 19/20\n",
            "13/13 - 0s - loss: 0.2585 - accuracy: 0.9212 - val_loss: 0.2393 - val_accuracy: 0.9400 - 69ms/epoch - 5ms/step\n",
            "Epoch 20/20\n",
            "13/13 - 0s - loss: 0.2506 - accuracy: 0.9262 - val_loss: 0.2309 - val_accuracy: 0.9450 - 77ms/epoch - 6ms/step\n",
            "7/7 [==============================] - 0s 4ms/step\n",
            "Epoch 1/20\n",
            "13/13 - 1s - loss: 1.0370 - accuracy: 0.4712 - val_loss: 1.0073 - val_accuracy: 0.4600 - 828ms/epoch - 64ms/step\n",
            "Epoch 2/20\n",
            "13/13 - 0s - loss: 0.9154 - accuracy: 0.4913 - val_loss: 0.8875 - val_accuracy: 0.4900 - 57ms/epoch - 4ms/step\n",
            "Epoch 3/20\n",
            "13/13 - 0s - loss: 0.8082 - accuracy: 0.5412 - val_loss: 0.7811 - val_accuracy: 0.5200 - 83ms/epoch - 6ms/step\n",
            "Epoch 4/20\n",
            "13/13 - 0s - loss: 0.7151 - accuracy: 0.5900 - val_loss: 0.6875 - val_accuracy: 0.5550 - 59ms/epoch - 5ms/step\n",
            "Epoch 5/20\n",
            "13/13 - 0s - loss: 0.6339 - accuracy: 0.6538 - val_loss: 0.6083 - val_accuracy: 0.6200 - 55ms/epoch - 4ms/step\n",
            "Epoch 6/20\n",
            "13/13 - 0s - loss: 0.5631 - accuracy: 0.7100 - val_loss: 0.5437 - val_accuracy: 0.7200 - 67ms/epoch - 5ms/step\n",
            "Epoch 7/20\n",
            "13/13 - 0s - loss: 0.5055 - accuracy: 0.7775 - val_loss: 0.4888 - val_accuracy: 0.7750 - 61ms/epoch - 5ms/step\n",
            "Epoch 8/20\n",
            "13/13 - 0s - loss: 0.4578 - accuracy: 0.8425 - val_loss: 0.4442 - val_accuracy: 0.8450 - 63ms/epoch - 5ms/step\n",
            "Epoch 9/20\n",
            "13/13 - 0s - loss: 0.4192 - accuracy: 0.8687 - val_loss: 0.4088 - val_accuracy: 0.8900 - 64ms/epoch - 5ms/step\n",
            "Epoch 10/20\n",
            "13/13 - 0s - loss: 0.3884 - accuracy: 0.8900 - val_loss: 0.3802 - val_accuracy: 0.9050 - 57ms/epoch - 4ms/step\n",
            "Epoch 11/20\n",
            "13/13 - 0s - loss: 0.3636 - accuracy: 0.9025 - val_loss: 0.3570 - val_accuracy: 0.9250 - 68ms/epoch - 5ms/step\n",
            "Epoch 12/20\n",
            "13/13 - 0s - loss: 0.3427 - accuracy: 0.9087 - val_loss: 0.3390 - val_accuracy: 0.9250 - 73ms/epoch - 6ms/step\n",
            "Epoch 13/20\n",
            "13/13 - 0s - loss: 0.3257 - accuracy: 0.9100 - val_loss: 0.3230 - val_accuracy: 0.9350 - 70ms/epoch - 5ms/step\n",
            "Epoch 14/20\n",
            "13/13 - 0s - loss: 0.3108 - accuracy: 0.9137 - val_loss: 0.3103 - val_accuracy: 0.9300 - 77ms/epoch - 6ms/step\n",
            "Epoch 15/20\n",
            "13/13 - 0s - loss: 0.2985 - accuracy: 0.9175 - val_loss: 0.2992 - val_accuracy: 0.9300 - 69ms/epoch - 5ms/step\n",
            "Epoch 16/20\n",
            "13/13 - 0s - loss: 0.2878 - accuracy: 0.9162 - val_loss: 0.2904 - val_accuracy: 0.9300 - 59ms/epoch - 5ms/step\n",
            "Epoch 17/20\n",
            "13/13 - 0s - loss: 0.2782 - accuracy: 0.9162 - val_loss: 0.2817 - val_accuracy: 0.9300 - 71ms/epoch - 5ms/step\n",
            "Epoch 18/20\n",
            "13/13 - 0s - loss: 0.2697 - accuracy: 0.9200 - val_loss: 0.2750 - val_accuracy: 0.9300 - 66ms/epoch - 5ms/step\n",
            "Epoch 19/20\n",
            "13/13 - 0s - loss: 0.2623 - accuracy: 0.9187 - val_loss: 0.2688 - val_accuracy: 0.9300 - 74ms/epoch - 6ms/step\n",
            "Epoch 20/20\n",
            "13/13 - 0s - loss: 0.2557 - accuracy: 0.9212 - val_loss: 0.2639 - val_accuracy: 0.9300 - 59ms/epoch - 5ms/step\n",
            "7/7 [==============================] - 0s 2ms/step\n",
            "Epoch 1/20\n",
            "13/13 - 1s - loss: 1.1367 - accuracy: 0.3938 - val_loss: 1.0546 - val_accuracy: 0.4250 - 871ms/epoch - 67ms/step\n",
            "Epoch 2/20\n",
            "13/13 - 0s - loss: 1.0072 - accuracy: 0.4375 - val_loss: 0.9391 - val_accuracy: 0.4850 - 79ms/epoch - 6ms/step\n",
            "Epoch 3/20\n",
            "13/13 - 0s - loss: 0.8957 - accuracy: 0.4850 - val_loss: 0.8385 - val_accuracy: 0.5600 - 61ms/epoch - 5ms/step\n",
            "Epoch 4/20\n",
            "13/13 - 0s - loss: 0.7996 - accuracy: 0.5188 - val_loss: 0.7529 - val_accuracy: 0.5750 - 77ms/epoch - 6ms/step\n",
            "Epoch 5/20\n",
            "13/13 - 0s - loss: 0.7178 - accuracy: 0.5625 - val_loss: 0.6782 - val_accuracy: 0.6150 - 72ms/epoch - 6ms/step\n",
            "Epoch 6/20\n",
            "13/13 - 0s - loss: 0.6472 - accuracy: 0.6087 - val_loss: 0.6131 - val_accuracy: 0.6850 - 72ms/epoch - 6ms/step\n",
            "Epoch 7/20\n",
            "13/13 - 0s - loss: 0.5885 - accuracy: 0.6675 - val_loss: 0.5555 - val_accuracy: 0.7150 - 72ms/epoch - 6ms/step\n",
            "Epoch 8/20\n",
            "13/13 - 0s - loss: 0.5363 - accuracy: 0.7188 - val_loss: 0.5075 - val_accuracy: 0.7350 - 74ms/epoch - 6ms/step\n",
            "Epoch 9/20\n",
            "13/13 - 0s - loss: 0.4928 - accuracy: 0.7750 - val_loss: 0.4647 - val_accuracy: 0.7650 - 72ms/epoch - 6ms/step\n",
            "Epoch 10/20\n",
            "13/13 - 0s - loss: 0.4545 - accuracy: 0.8012 - val_loss: 0.4295 - val_accuracy: 0.8150 - 64ms/epoch - 5ms/step\n",
            "Epoch 11/20\n",
            "13/13 - 0s - loss: 0.4228 - accuracy: 0.8350 - val_loss: 0.3998 - val_accuracy: 0.8350 - 83ms/epoch - 6ms/step\n",
            "Epoch 12/20\n",
            "13/13 - 0s - loss: 0.3953 - accuracy: 0.8462 - val_loss: 0.3735 - val_accuracy: 0.8650 - 77ms/epoch - 6ms/step\n",
            "Epoch 13/20\n",
            "13/13 - 0s - loss: 0.3720 - accuracy: 0.8612 - val_loss: 0.3505 - val_accuracy: 0.8800 - 63ms/epoch - 5ms/step\n",
            "Epoch 14/20\n",
            "13/13 - 0s - loss: 0.3511 - accuracy: 0.8725 - val_loss: 0.3316 - val_accuracy: 0.8900 - 68ms/epoch - 5ms/step\n",
            "Epoch 15/20\n",
            "13/13 - 0s - loss: 0.3332 - accuracy: 0.8825 - val_loss: 0.3150 - val_accuracy: 0.9050 - 78ms/epoch - 6ms/step\n",
            "Epoch 16/20\n",
            "13/13 - 0s - loss: 0.3178 - accuracy: 0.8988 - val_loss: 0.3000 - val_accuracy: 0.9200 - 56ms/epoch - 4ms/step\n",
            "Epoch 17/20\n",
            "13/13 - 0s - loss: 0.3036 - accuracy: 0.9050 - val_loss: 0.2878 - val_accuracy: 0.9200 - 58ms/epoch - 4ms/step\n",
            "Epoch 18/20\n",
            "13/13 - 0s - loss: 0.2913 - accuracy: 0.9087 - val_loss: 0.2773 - val_accuracy: 0.9300 - 68ms/epoch - 5ms/step\n",
            "Epoch 19/20\n",
            "13/13 - 0s - loss: 0.2804 - accuracy: 0.9112 - val_loss: 0.2673 - val_accuracy: 0.9300 - 61ms/epoch - 5ms/step\n",
            "Epoch 20/20\n",
            "13/13 - 0s - loss: 0.2705 - accuracy: 0.9187 - val_loss: 0.2593 - val_accuracy: 0.9300 - 72ms/epoch - 6ms/step\n",
            "7/7 [==============================] - 0s 2ms/step\n"
          ]
        }
      ]
    },
    {
      "cell_type": "code",
      "source": [
        "acc_total"
      ],
      "metadata": {
        "colab": {
          "base_uri": "https://localhost:8080/"
        },
        "id": "1gS3MlqJKpa3",
        "outputId": "0dad326a-60ed-41e3-df45-371d322531dd"
      },
      "execution_count": null,
      "outputs": [
        {
          "output_type": "execute_result",
          "data": {
            "text/plain": [
              "[0.945, 0.93, 0.945, 0.93, 0.93]"
            ]
          },
          "metadata": {},
          "execution_count": 22
        }
      ]
    },
    {
      "cell_type": "code",
      "source": [
        "import numpy as np"
      ],
      "metadata": {
        "id": "D6DhoEEYNcpg"
      },
      "execution_count": null,
      "outputs": []
    },
    {
      "cell_type": "code",
      "source": [
        "np.mean(acc_total)"
      ],
      "metadata": {
        "colab": {
          "base_uri": "https://localhost:8080/"
        },
        "id": "xa2eGu1WNuG3",
        "outputId": "e33ddf9d-5883-4630-b00d-f1d2015a75ff"
      },
      "execution_count": null,
      "outputs": [
        {
          "output_type": "execute_result",
          "data": {
            "text/plain": [
              "0.9359999999999999"
            ]
          },
          "metadata": {},
          "execution_count": 24
        }
      ]
    },
    {
      "cell_type": "code",
      "source": [],
      "metadata": {
        "id": "0wtb_QbONxfE"
      },
      "execution_count": null,
      "outputs": []
    }
  ]
}