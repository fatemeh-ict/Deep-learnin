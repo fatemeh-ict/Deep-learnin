{
  "nbformat": 4,
  "nbformat_minor": 0,
  "metadata": {
    "colab": {
      "provenance": []
    },
    "kernelspec": {
      "name": "python3",
      "display_name": "Python 3"
    },
    "language_info": {
      "name": "python"
    }
  },
  "cells": [
    {
      "cell_type": "code",
      "execution_count": null,
      "metadata": {
        "id": "wyIyVCN8Ua6-"
      },
      "outputs": [],
      "source": [
        "import json"
      ]
    },
    {
      "cell_type": "code",
      "source": [
        "class ContactManager:\n",
        "  def __init__(self,path='-'):\n",
        "    self.contact_list=[]\n",
        "\n",
        "    if path!='-':\n",
        "      print(\"loading previous contact...\")\n",
        "      with open(path,\"r\") as f:\n",
        "        data=f.read()\n",
        "        self.contact_list=json.loads(data)\n",
        "      print('loaded...')\n",
        "\n",
        "  def add(self,name, number):\n",
        "    self.contact_list.append({\n",
        "        'name':name,\n",
        "        'number':number\n",
        "    })\n",
        "\n",
        "\n",
        "  def search(self,name):\n",
        "    result=[]\n",
        "    for item in self.contact_list:\n",
        "      if name.lower() in item['name'].lower():\n",
        "        result.append(item)\n",
        "\n",
        "    print(result)\n",
        "\n",
        "  def backup(self):\n",
        "    with open(\"./contact_list.json\",'w') as f:\n",
        "      f.write(json.dumps(self.contact_list))\n",
        "\n",
        "  def print(self):\n",
        "    print(f'your coontacts are : {self.contact_list}')"
      ],
      "metadata": {
        "id": "2zspRFnYU0Vj"
      },
      "execution_count": null,
      "outputs": []
    },
    {
      "cell_type": "code",
      "source": [
        "my_contacts=ContactManager(path=\"./contact_list.json\")\n",
        "my_contacts.print()\n",
        "\n",
        "my_contacts.add('sara','1234')\n",
        "my_contacts.print()"
      ],
      "metadata": {
        "colab": {
          "base_uri": "https://localhost:8080/"
        },
        "id": "-C1yDTtIVCYU",
        "outputId": "9fb97937-1c0d-4d50-b448-f98ec76dab42"
      },
      "execution_count": null,
      "outputs": [
        {
          "output_type": "stream",
          "name": "stdout",
          "text": [
            "loading previous contact...\n",
            "loaded...\n",
            "your coontacts are : [{'name': 'sara', 'number': '1234'}, {'name': 'mari', 'number': '4931'}]\n",
            "your coontacts are : [{'name': 'sara', 'number': '1234'}, {'name': 'mari', 'number': '4931'}, {'name': 'sara', 'number': '1234'}]\n"
          ]
        }
      ]
    },
    {
      "cell_type": "code",
      "source": [
        "my_contacts.add('mari','4931')\n",
        "my_contacts.print()"
      ],
      "metadata": {
        "colab": {
          "base_uri": "https://localhost:8080/"
        },
        "id": "GMvLrC8ZVIPx",
        "outputId": "c7a8714e-1ebd-471b-f91e-bc118daafe54"
      },
      "execution_count": null,
      "outputs": [
        {
          "output_type": "stream",
          "name": "stdout",
          "text": [
            "your coontacts are : [{'name': 'sara', 'number': '1234'}, {'name': 'mari', 'number': '4931'}, {'name': 'sara', 'number': '1234'}, {'name': 'mari', 'number': '4931'}]\n"
          ]
        }
      ]
    },
    {
      "cell_type": "code",
      "source": [
        "my_contacts.search('s')"
      ],
      "metadata": {
        "colab": {
          "base_uri": "https://localhost:8080/"
        },
        "id": "jrwKxCfEVydX",
        "outputId": "3e547f83-593e-4149-ef4c-215cfdeed0e9"
      },
      "execution_count": null,
      "outputs": [
        {
          "output_type": "stream",
          "name": "stdout",
          "text": [
            "[{'name': 'sara', 'number': '1234'}, {'name': 'sara', 'number': '1234'}]\n"
          ]
        }
      ]
    },
    {
      "cell_type": "code",
      "source": [
        "my_contacts.backup()"
      ],
      "metadata": {
        "id": "dDCNdf0iV5VH"
      },
      "execution_count": null,
      "outputs": []
    },
    {
      "cell_type": "code",
      "source": [],
      "metadata": {
        "id": "XIhbr7yvWC6b"
      },
      "execution_count": null,
      "outputs": []
    }
  ]
}